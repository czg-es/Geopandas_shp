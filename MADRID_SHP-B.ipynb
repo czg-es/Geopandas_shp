{
 "cells": [
  {
   "cell_type": "markdown",
   "id": "3df94783",
   "metadata": {},
   "source": [
    "# Un cuaderno para plotear mapas en formato shp."
   ]
  },
  {
   "cell_type": "code",
   "execution_count": 1,
   "id": "9c7d9ffe",
   "metadata": {},
   "outputs": [],
   "source": [
    "# Procesado y representación gráfica de datos\n",
    "import pandas as pd\n",
    "import geopandas as gpd\n",
    "import matplotlib.pyplot as plt \n",
    "%matplotlib inline\n",
    "# Herramienta de zoom para el mapa\n",
    "import mpld3\n",
    "mpld3.enable_notebook()  \n",
    "# Menus de interactividad con el mapa\n",
    "import ipywidgets as widgets"
   ]
  },
  {
   "cell_type": "code",
   "execution_count": 2,
   "id": "96e00948",
   "metadata": {},
   "outputs": [],
   "source": [
    "# lista para suminitrar al widget.Dropdown mapaW , nombre a mostrar y valor a enviar\n",
    "lista_archivos = [('BCN0502P_ENT_POB_point.shp', 0),('BCN0567P_INS_REC_P_point.shp', 1),('BCN0558P_YAC_ARQ_point.shp', 2),\n",
    "                   ('BCN0537P_CUEVA_point.shp', 3),('BCN0632L_ITINER_line.shp', 4)]"
   ]
  },
  {
   "cell_type": "code",
   "execution_count": 3,
   "id": "f8f30a07",
   "metadata": {},
   "outputs": [],
   "source": [
    "# Crea string con el nombre del archivo a cargar los archivos están en : ./vector/\n",
    "def creaNombre(x):\n",
    "    nombre_arch = lista_archivos[x]\n",
    "    return nombre_arch[0] # Solo el primer valor (nombre)"
   ]
  },
  {
   "cell_type": "code",
   "execution_count": 4,
   "id": "345bca04",
   "metadata": {},
   "outputs": [],
   "source": [
    "# carga el mapa y lo muestra es invocada desde el widget devuelto por select_mapa()\n",
    "def muestra_mapa(capa):\n",
    "    \n",
    "    under = gpd.read_file('vector/BCN0901S_MAR_HOJ_polygon.shp') # contorno sobre el que se muestran los datos\n",
    "    mapa = gpd.read_file(N_mapa)\n",
    "    # print('capa' + mapa.ETIQUETA[mapa['ID']==capa])\n",
    "    \n",
    "    fig, ax = plt.subplots(figsize=(10,10))\n",
    "    \n",
    "    under.plot(ax=ax, alpha=0.3,color='green')\n",
    "    if capa=='All':\n",
    "        mapa.plot(ax=ax, alpha=0.3,color='red')\n",
    "        plt.legend([N_mapa[7:-4]],loc=0);\n",
    "        \n",
    "    else:\n",
    "        mapa[mapa['ID']==capa].plot(ax=ax, alpha=1,color='plum')\n",
    "        plt.legend(mapa.ETIQUETA[mapa['ID']==capa],loc=0);\n",
    "    \n",
    "    plt.title(N_mapa[7:-4], fontsize=15,fontweight='bold')\n",
    "        \n",
    "    return plt.show();"
   ]
  },
  {
   "cell_type": "code",
   "execution_count": 5,
   "id": "ee542ebf",
   "metadata": {},
   "outputs": [],
   "source": [
    "# Función con la que interactua el widget capaW,\n",
    "# devuelve el widget capaW cargado con las opciones que corresponden en base al mapa cargado.\n",
    "N_mapa ='' \n",
    "def select_mapa(mapa): \n",
    "    lista_capas = [('All','All')]\n",
    "    \n",
    "    global N_mapa \n",
    "    mapaActual = creaNombre(mapa) \n",
    "    N_mapa = 'vector/'+mapaActual \n",
    "    mapa = gpd.read_file(N_mapa)\n",
    "   \n",
    "    try:\n",
    "        lista_capas += list(zip(mapa.ETIQUETA,mapa.ID ))\n",
    "    except:\n",
    "        print('MAL')\n",
    "    capaW = widgets.Dropdown(options=lista_capas,description='CAPA:')\n",
    "    widgets.interact(muestra_mapa ,capa=capaW) # <-- is this the proper way to do this?\n",
    "    return    "
   ]
  },
  {
   "cell_type": "code",
   "execution_count": 6,
   "id": "dbeb4381",
   "metadata": {
    "scrolled": false
   },
   "outputs": [
    {
     "data": {
      "application/vnd.jupyter.widget-view+json": {
       "model_id": "4337471e0f3a405a9207923f3c040124",
       "version_major": 2,
       "version_minor": 0
      },
      "text/plain": [
       "interactive(children=(Dropdown(description='MAPA:', options=(('BCN0502P_ENT_POB_point.shp', 0), ('BCN0567P_INS…"
      ]
     },
     "metadata": {},
     "output_type": "display_data"
    },
    {
     "data": {
      "text/plain": [
       "<function __main__.select_mapa(mapa)>"
      ]
     },
     "execution_count": 6,
     "metadata": {},
     "output_type": "execute_result"
    }
   ],
   "source": [
    "# El widget que pone todo en movimiento\n",
    "mapaW = widgets.Dropdown(options=lista_archivos ,description='MAPA:')\n",
    "widgets.interact(select_mapa ,mapa=mapaW)"
   ]
  },
  {
   "cell_type": "markdown",
   "id": "c7e32a20",
   "metadata": {},
   "source": [
    "## BTN25 2006-2019 CC-BY 4.0 [ign.es ]( http://www.ign.es \"Instituto geográfico nacional\") "
   ]
  },
  {
   "cell_type": "markdown",
   "id": "7ecab121",
   "metadata": {},
   "source": [
    "<div style=\"text-align: right\"> <h1> CZG 2021</h1>  </div>"
   ]
  }
 ],
 "metadata": {
  "kernelspec": {
   "display_name": "Python 3",
   "language": "python",
   "name": "python3"
  },
  "language_info": {
   "codemirror_mode": {
    "name": "ipython",
    "version": 3
   },
   "file_extension": ".py",
   "mimetype": "text/x-python",
   "name": "python",
   "nbconvert_exporter": "python",
   "pygments_lexer": "ipython3",
   "version": "3.8.9"
  }
 },
 "nbformat": 4,
 "nbformat_minor": 5
}
